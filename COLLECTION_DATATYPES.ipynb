{
  "nbformat": 4,
  "nbformat_minor": 0,
  "metadata": {
    "colab": {
      "provenance": []
    },
    "kernelspec": {
      "name": "python3",
      "display_name": "Python 3"
    },
    "language_info": {
      "name": "python"
    }
  },
  "cells": [
    {
      "cell_type": "markdown",
      "source": [
        "Collection data types is a container used to store multiple data items."
      ],
      "metadata": {
        "id": "GWJou1VHXj3S"
      }
    },
    {
      "cell_type": "markdown",
      "source": [
        "**LIST**"
      ],
      "metadata": {
        "id": "LwBd8H5_X1Rb"
      }
    },
    {
      "cell_type": "markdown",
      "source": [
        "List is a odered sequence.\n",
        "List is a mutable collection of data.\n",
        "Theoreticaly of infinate length.\n",
        "iterable.\n",
        "allow duplicate members.\n",
        "Return with square bracket."
      ],
      "metadata": {
        "id": "WcKkrXEXX5bm"
      }
    },
    {
      "cell_type": "code",
      "execution_count": null,
      "metadata": {
        "id": "SW21K-H8V5rs"
      },
      "outputs": [],
      "source": [
        "#List=[['fids',21],'string',8,8.9]"
      ]
    },
    {
      "cell_type": "code",
      "source": [
        "List=['raju','ramu',9,99,56]"
      ],
      "metadata": {
        "id": "28V-WklvZLZ9"
      },
      "execution_count": null,
      "outputs": []
    },
    {
      "cell_type": "code",
      "source": [
        "print(List)"
      ],
      "metadata": {
        "colab": {
          "base_uri": "https://localhost:8080/"
        },
        "id": "nnxBYW2-ZU9Z",
        "outputId": "d57d8162-61ee-4afd-a71b-2c0a64cb5710"
      },
      "execution_count": null,
      "outputs": [
        {
          "output_type": "stream",
          "name": "stdout",
          "text": [
            "['raju', 'ramu', 9, 99, 56]\n"
          ]
        }
      ]
    },
    {
      "cell_type": "code",
      "source": [
        "List=['rsju','rsmu',9,99,56,'fida']"
      ],
      "metadata": {
        "id": "1k3RZQefZbqt"
      },
      "execution_count": null,
      "outputs": []
    },
    {
      "cell_type": "code",
      "source": [
        "print(List)"
      ],
      "metadata": {
        "colab": {
          "base_uri": "https://localhost:8080/"
        },
        "id": "eWBbzfVFZtt0",
        "outputId": "46dd09ba-dc7f-4090-a23c-ecaa336f4869"
      },
      "execution_count": null,
      "outputs": [
        {
          "output_type": "stream",
          "name": "stdout",
          "text": [
            "['rsju', 'rsmu', 9, 99, 56, 'fida']\n"
          ]
        }
      ]
    },
    {
      "cell_type": "markdown",
      "source": [
        "Nested list"
      ],
      "metadata": {
        "id": "1JXgtPqNZ0td"
      }
    },
    {
      "cell_type": "code",
      "source": [
        "List1=['raju',[9,999,],44,565,['fida']]"
      ],
      "metadata": {
        "id": "wd5HTr6PZwno"
      },
      "execution_count": null,
      "outputs": []
    },
    {
      "cell_type": "code",
      "source": [
        "print(List1)"
      ],
      "metadata": {
        "colab": {
          "base_uri": "https://localhost:8080/"
        },
        "id": "UEyQ4svVaJW8",
        "outputId": "687f7abe-8d14-45c4-c22c-39cb929270f2"
      },
      "execution_count": null,
      "outputs": [
        {
          "output_type": "stream",
          "name": "stdout",
          "text": [
            "['raju', [9, 999], 44, 565, ['fida']]\n"
          ]
        }
      ]
    },
    {
      "cell_type": "markdown",
      "source": [
        "INDEXING"
      ],
      "metadata": {
        "id": "p8Of4MQFdZla"
      }
    },
    {
      "cell_type": "markdown",
      "source": [
        "Positive indexing & Negative indexing"
      ],
      "metadata": {
        "id": "s6gToB3IdcAp"
      }
    },
    {
      "cell_type": "code",
      "source": [
        "List1=[['raju',30],['ramu'],'bolu','dolu','bolu']"
      ],
      "metadata": {
        "id": "VsKPYt25aL7z"
      },
      "execution_count": null,
      "outputs": []
    },
    {
      "cell_type": "code",
      "source": [
        "print(List1[-3])"
      ],
      "metadata": {
        "colab": {
          "base_uri": "https://localhost:8080/"
        },
        "id": "tSEYr-i-d9oo",
        "outputId": "ad9c1f49-5202-46f7-a254-84614a82f8f8"
      },
      "execution_count": null,
      "outputs": [
        {
          "output_type": "stream",
          "name": "stdout",
          "text": [
            "bolu\n"
          ]
        }
      ]
    },
    {
      "cell_type": "code",
      "source": [
        "print(List1[0])"
      ],
      "metadata": {
        "colab": {
          "base_uri": "https://localhost:8080/"
        },
        "id": "BJiUFx6QeL-k",
        "outputId": "064cdbf2-e8f0-4852-b2b3-5442e4512d96"
      },
      "execution_count": null,
      "outputs": [
        {
          "output_type": "stream",
          "name": "stdout",
          "text": [
            "['raju', 30]\n"
          ]
        }
      ]
    },
    {
      "cell_type": "code",
      "source": [
        "print(List1[1])"
      ],
      "metadata": {
        "colab": {
          "base_uri": "https://localhost:8080/"
        },
        "id": "AxSgDzaCeP0S",
        "outputId": "471af922-e455-4589-993e-29b9b3efe1fa"
      },
      "execution_count": null,
      "outputs": [
        {
          "output_type": "stream",
          "name": "stdout",
          "text": [
            "['ramu']\n"
          ]
        }
      ]
    },
    {
      "cell_type": "code",
      "source": [
        "print(List1[-2])"
      ],
      "metadata": {
        "colab": {
          "base_uri": "https://localhost:8080/"
        },
        "id": "ClZH9x5FeY6R",
        "outputId": "fdfee2b0-b85c-4b03-9bb1-c58e1b10d12e"
      },
      "execution_count": null,
      "outputs": [
        {
          "output_type": "stream",
          "name": "stdout",
          "text": [
            "dolu\n"
          ]
        }
      ]
    },
    {
      "cell_type": "code",
      "source": [
        "print(List[-5])"
      ],
      "metadata": {
        "colab": {
          "base_uri": "https://localhost:8080/"
        },
        "id": "mtX5PJp5edQZ",
        "outputId": "35d4aed1-f0b7-4e79-8207-ff9549458a73"
      },
      "execution_count": null,
      "outputs": [
        {
          "output_type": "stream",
          "name": "stdout",
          "text": [
            "rsmu\n"
          ]
        }
      ]
    },
    {
      "cell_type": "markdown",
      "source": [
        "SLICING"
      ],
      "metadata": {
        "id": "wpvjlzLbezco"
      }
    },
    {
      "cell_type": "code",
      "source": [
        "print(List1[0:1])"
      ],
      "metadata": {
        "colab": {
          "base_uri": "https://localhost:8080/"
        },
        "id": "5D5vBm0xemfS",
        "outputId": "93ee85aa-1486-4e0f-dd34-65d6f3e0356e"
      },
      "execution_count": null,
      "outputs": [
        {
          "output_type": "stream",
          "name": "stdout",
          "text": [
            "[['raju', 30]]\n"
          ]
        }
      ]
    },
    {
      "cell_type": "code",
      "source": [
        "print(List1[0:2])"
      ],
      "metadata": {
        "colab": {
          "base_uri": "https://localhost:8080/"
        },
        "id": "m-GCWhuffGR2",
        "outputId": "fce79ff0-4cce-4bf4-b090-33446e02d503"
      },
      "execution_count": null,
      "outputs": [
        {
          "output_type": "stream",
          "name": "stdout",
          "text": [
            "[['raju', 30], ['ramu']]\n"
          ]
        }
      ]
    },
    {
      "cell_type": "code",
      "source": [
        "print(List1[0:3])"
      ],
      "metadata": {
        "colab": {
          "base_uri": "https://localhost:8080/"
        },
        "id": "Gi2gfVUrfLdb",
        "outputId": "72e43306-388b-4d2f-f102-d627f2305214"
      },
      "execution_count": null,
      "outputs": [
        {
          "output_type": "stream",
          "name": "stdout",
          "text": [
            "[['raju', 30], ['ramu'], 'bolu']\n"
          ]
        }
      ]
    },
    {
      "cell_type": "code",
      "source": [
        "print(List1[:])"
      ],
      "metadata": {
        "colab": {
          "base_uri": "https://localhost:8080/"
        },
        "id": "qFIXEH5Sida_",
        "outputId": "33fafe3f-bb35-4630-d0dd-aab01b611f99"
      },
      "execution_count": null,
      "outputs": [
        {
          "output_type": "stream",
          "name": "stdout",
          "text": [
            "[['raju', 30], ['ramu'], 'bolu', 'dolu', 'bolu']\n"
          ]
        }
      ]
    },
    {
      "cell_type": "code",
      "source": [
        "print(List[:5])"
      ],
      "metadata": {
        "colab": {
          "base_uri": "https://localhost:8080/"
        },
        "id": "ldBOVJ-WfUBl",
        "outputId": "4df1e52e-d292-4daf-ccbd-6eea8788be2a"
      },
      "execution_count": null,
      "outputs": [
        {
          "output_type": "stream",
          "name": "stdout",
          "text": [
            "['rsju', 'rsmu', 9, 99, 56]\n"
          ]
        }
      ]
    },
    {
      "cell_type": "code",
      "source": [
        "print(List1[-1:0])"
      ],
      "metadata": {
        "colab": {
          "base_uri": "https://localhost:8080/"
        },
        "id": "RiXsLH6jfZnr",
        "outputId": "9548efa4-906a-4365-df43-8dc716aa2ae4"
      },
      "execution_count": null,
      "outputs": [
        {
          "output_type": "stream",
          "name": "stdout",
          "text": [
            "[]\n"
          ]
        }
      ]
    },
    {
      "cell_type": "code",
      "source": [
        "print(List1[-4:-1])"
      ],
      "metadata": {
        "colab": {
          "base_uri": "https://localhost:8080/"
        },
        "id": "fKRjazPugU8U",
        "outputId": "b83197f1-29ca-4e7f-cda7-d90f755ee293"
      },
      "execution_count": null,
      "outputs": [
        {
          "output_type": "stream",
          "name": "stdout",
          "text": [
            "[['ramu'], 'bolu', 'dolu']\n"
          ]
        }
      ]
    },
    {
      "cell_type": "code",
      "source": [
        "print(List1[1:-1])\n",
        "print(List[-4:-1])\n",
        "print(List1[1:4])"
      ],
      "metadata": {
        "colab": {
          "base_uri": "https://localhost:8080/"
        },
        "id": "340VpXmJg4j8",
        "outputId": "4dbe0ce2-894e-489e-df3d-fcafd863f282"
      },
      "execution_count": null,
      "outputs": [
        {
          "output_type": "stream",
          "name": "stdout",
          "text": [
            "[['ramu'], 'bolu', 'dolu']\n",
            "[9, 99, 56]\n",
            "[['ramu'], 'bolu', 'dolu']\n"
          ]
        }
      ]
    },
    {
      "cell_type": "markdown",
      "source": [
        "**APPEND**"
      ],
      "metadata": {
        "id": "VpqsYNXbj--i"
      }
    },
    {
      "cell_type": "code",
      "source": [
        "List1=['ram','raju','ajay']"
      ],
      "metadata": {
        "id": "trRNLw8zhaUj"
      },
      "execution_count": null,
      "outputs": []
    },
    {
      "cell_type": "code",
      "source": [
        "List1.append('sanay')"
      ],
      "metadata": {
        "id": "dLyoY2xskT7w"
      },
      "execution_count": null,
      "outputs": []
    },
    {
      "cell_type": "code",
      "source": [
        "print(List1)"
      ],
      "metadata": {
        "colab": {
          "base_uri": "https://localhost:8080/"
        },
        "id": "xgOQvJsLkYuV",
        "outputId": "f1e0ff48-9f23-4a48-d0da-ad982c1802c1"
      },
      "execution_count": null,
      "outputs": [
        {
          "output_type": "stream",
          "name": "stdout",
          "text": [
            "['ram', 'raju', 'ajay', 'sanay']\n"
          ]
        }
      ]
    },
    {
      "cell_type": "markdown",
      "source": [
        "**EXTEND**"
      ],
      "metadata": {
        "id": "twUwzTBgkkDw"
      }
    },
    {
      "cell_type": "code",
      "source": [
        "List4=['arjun','fida','arifa']"
      ],
      "metadata": {
        "id": "VhmQD5BBkiJz"
      },
      "execution_count": null,
      "outputs": []
    },
    {
      "cell_type": "code",
      "source": [
        "print(List4)"
      ],
      "metadata": {
        "colab": {
          "base_uri": "https://localhost:8080/"
        },
        "id": "2BhfX60Sk4J-",
        "outputId": "274f339b-7257-49da-a1b6-91cbf0b528f5"
      },
      "execution_count": null,
      "outputs": [
        {
          "output_type": "stream",
          "name": "stdout",
          "text": [
            "['arjun', 'fida', 'arifa']\n"
          ]
        }
      ]
    },
    {
      "cell_type": "code",
      "source": [
        "List4.extend(['sanju','abinav'])"
      ],
      "metadata": {
        "id": "J-AZ7CKck63n"
      },
      "execution_count": null,
      "outputs": []
    },
    {
      "cell_type": "code",
      "source": [
        "print(List4)"
      ],
      "metadata": {
        "colab": {
          "base_uri": "https://localhost:8080/"
        },
        "id": "VUIKTVAklIrC",
        "outputId": "2fec6d56-1765-4b08-a6d1-518e8cc729cc"
      },
      "execution_count": null,
      "outputs": [
        {
          "output_type": "stream",
          "name": "stdout",
          "text": [
            "['arjun', 'fida', 'arifa', 'sanju', 'abinav']\n"
          ]
        }
      ]
    },
    {
      "cell_type": "markdown",
      "source": [
        "**INSERT**"
      ],
      "metadata": {
        "id": "nem4RkiGlVqy"
      }
    },
    {
      "cell_type": "code",
      "source": [
        "print(List4)"
      ],
      "metadata": {
        "colab": {
          "base_uri": "https://localhost:8080/"
        },
        "id": "0SQwu22SlPnK",
        "outputId": "997fdd0a-1742-40bc-adc4-3b2e8f72df36"
      },
      "execution_count": null,
      "outputs": [
        {
          "output_type": "stream",
          "name": "stdout",
          "text": [
            "['arjun', 'fida', 'arifa', 'sanju', 'abinav']\n"
          ]
        }
      ]
    },
    {
      "cell_type": "code",
      "source": [
        "List4.insert(2,'anjal')"
      ],
      "metadata": {
        "id": "sefoM7uGluca"
      },
      "execution_count": null,
      "outputs": []
    },
    {
      "cell_type": "code",
      "source": [
        "print(List4)"
      ],
      "metadata": {
        "colab": {
          "base_uri": "https://localhost:8080/"
        },
        "id": "bFMmxetsl4sz",
        "outputId": "056feaf2-4964-43d3-a76c-572d8d602faf"
      },
      "execution_count": null,
      "outputs": [
        {
          "output_type": "stream",
          "name": "stdout",
          "text": [
            "['arjun', 'fida', 'anjal', 'arifa', 'sanju', 'abinav']\n"
          ]
        }
      ]
    },
    {
      "cell_type": "code",
      "source": [
        "List4.insert(1,'rahul')"
      ],
      "metadata": {
        "id": "hmR4CoJxl8st"
      },
      "execution_count": null,
      "outputs": []
    },
    {
      "cell_type": "code",
      "source": [
        "print(List4)"
      ],
      "metadata": {
        "colab": {
          "base_uri": "https://localhost:8080/"
        },
        "id": "JKLINi1rmJWg",
        "outputId": "53dad3e2-6635-499d-c9f9-50e22bb38057"
      },
      "execution_count": null,
      "outputs": [
        {
          "output_type": "stream",
          "name": "stdout",
          "text": [
            "['arjun', 'rahul', 'fida', 'anjal', 'arifa', 'sanju', 'abinav']\n"
          ]
        }
      ]
    },
    {
      "cell_type": "markdown",
      "source": [
        "**LIST SWAPPING**"
      ],
      "metadata": {
        "id": "GFXSrtSGmSCf"
      }
    },
    {
      "cell_type": "code",
      "source": [
        "List=['arjun',3,5,9,'ammu','anand']"
      ],
      "metadata": {
        "id": "QWlmq2HXmMju"
      },
      "execution_count": null,
      "outputs": []
    },
    {
      "cell_type": "code",
      "source": [
        "List[1],List[3]=List[3],List[1]"
      ],
      "metadata": {
        "id": "7b3qyXtEmsrQ"
      },
      "execution_count": null,
      "outputs": []
    },
    {
      "cell_type": "code",
      "source": [
        "print(List)"
      ],
      "metadata": {
        "colab": {
          "base_uri": "https://localhost:8080/"
        },
        "id": "AleNsMN-m0zX",
        "outputId": "b084669e-06fb-4b19-f496-c004b7fc24d4"
      },
      "execution_count": null,
      "outputs": [
        {
          "output_type": "stream",
          "name": "stdout",
          "text": [
            "['arjun', 9, 5, 3, 'ammu', 'anand']\n"
          ]
        }
      ]
    },
    {
      "cell_type": "markdown",
      "source": [
        "**POP**"
      ],
      "metadata": {
        "id": "gE_vfWsKnp01"
      }
    },
    {
      "cell_type": "code",
      "source": [
        "List1=['ranju','ammu','dolu','radja','arifa']"
      ],
      "metadata": {
        "id": "Y1Dk_BhYm5Be"
      },
      "execution_count": null,
      "outputs": []
    },
    {
      "cell_type": "code",
      "source": [
        "List1.pop()"
      ],
      "metadata": {
        "colab": {
          "base_uri": "https://localhost:8080/",
          "height": 36
        },
        "id": "_xWWjx_1n_d0",
        "outputId": "a0efa81b-ea12-414c-fe67-dcda6ae266f3"
      },
      "execution_count": null,
      "outputs": [
        {
          "output_type": "execute_result",
          "data": {
            "text/plain": [
              "'arifa'"
            ],
            "application/vnd.google.colaboratory.intrinsic+json": {
              "type": "string"
            }
          },
          "metadata": {},
          "execution_count": 25
        }
      ]
    },
    {
      "cell_type": "code",
      "source": [
        "List1.pop(0)"
      ],
      "metadata": {
        "colab": {
          "base_uri": "https://localhost:8080/",
          "height": 36
        },
        "id": "_R9sa8JuoDyw",
        "outputId": "7d939a15-2cd9-4680-ec4e-ee7f4ede8d6a"
      },
      "execution_count": null,
      "outputs": [
        {
          "output_type": "execute_result",
          "data": {
            "text/plain": [
              "'ranju'"
            ],
            "application/vnd.google.colaboratory.intrinsic+json": {
              "type": "string"
            }
          },
          "metadata": {},
          "execution_count": 26
        }
      ]
    },
    {
      "cell_type": "code",
      "source": [
        "print(List1)"
      ],
      "metadata": {
        "colab": {
          "base_uri": "https://localhost:8080/"
        },
        "id": "jmTPMGDJoH3g",
        "outputId": "d0525a72-c4d3-4c3f-b4cd-b25c328195e9"
      },
      "execution_count": null,
      "outputs": [
        {
          "output_type": "stream",
          "name": "stdout",
          "text": [
            "['ammu', 'dolu', 'radja']\n"
          ]
        }
      ]
    },
    {
      "cell_type": "code",
      "source": [
        "List1.remove('dolu')"
      ],
      "metadata": {
        "id": "8d0PTliioNUT"
      },
      "execution_count": null,
      "outputs": []
    },
    {
      "cell_type": "code",
      "source": [
        "print(List1)"
      ],
      "metadata": {
        "colab": {
          "base_uri": "https://localhost:8080/"
        },
        "id": "mu1rQ640oVgo",
        "outputId": "d1abb432-d413-40cf-bd19-210f627fb4dc"
      },
      "execution_count": null,
      "outputs": [
        {
          "output_type": "stream",
          "name": "stdout",
          "text": [
            "['ammu', 'radja']\n"
          ]
        }
      ]
    },
    {
      "cell_type": "code",
      "source": [
        "del List1[0]"
      ],
      "metadata": {
        "id": "XQarAqODoYsm"
      },
      "execution_count": null,
      "outputs": []
    },
    {
      "cell_type": "code",
      "source": [
        "print(List1)"
      ],
      "metadata": {
        "colab": {
          "base_uri": "https://localhost:8080/"
        },
        "id": "em2yjfO2oiv_",
        "outputId": "86943080-f815-482d-9c55-23b2b40bad22"
      },
      "execution_count": null,
      "outputs": [
        {
          "output_type": "stream",
          "name": "stdout",
          "text": [
            "['radja']\n"
          ]
        }
      ]
    },
    {
      "cell_type": "code",
      "source": [
        "List2=[28,26,27,89,77,45,67,26,28]"
      ],
      "metadata": {
        "id": "Wa87gSMUoxRg"
      },
      "execution_count": null,
      "outputs": []
    },
    {
      "cell_type": "code",
      "source": [
        "List2.sort()"
      ],
      "metadata": {
        "id": "g311bRJ7qqVj"
      },
      "execution_count": null,
      "outputs": []
    },
    {
      "cell_type": "code",
      "source": [
        "print(List2)"
      ],
      "metadata": {
        "colab": {
          "base_uri": "https://localhost:8080/"
        },
        "id": "hyKHPuZoqxjd",
        "outputId": "06e74e3f-1e9c-475a-e975-926c101ecfc2"
      },
      "execution_count": null,
      "outputs": [
        {
          "output_type": "stream",
          "name": "stdout",
          "text": [
            "[26, 26, 27, 28, 28, 45, 67, 77, 89]\n"
          ]
        }
      ]
    },
    {
      "cell_type": "code",
      "source": [
        "List2.sort(reverse=True)"
      ],
      "metadata": {
        "id": "g1MEvbU6q2ob"
      },
      "execution_count": null,
      "outputs": []
    },
    {
      "cell_type": "code",
      "source": [
        "List2"
      ],
      "metadata": {
        "colab": {
          "base_uri": "https://localhost:8080/"
        },
        "id": "S7JsGTyIrLAV",
        "outputId": "4ba1c728-f994-45a4-de21-f608d6f366bb"
      },
      "execution_count": null,
      "outputs": [
        {
          "output_type": "execute_result",
          "data": {
            "text/plain": [
              "[89, 77, 67, 45, 28, 28, 27, 26, 26]"
            ]
          },
          "metadata": {},
          "execution_count": 48
        }
      ]
    },
    {
      "cell_type": "code",
      "source": [
        "List2.reverse()"
      ],
      "metadata": {
        "id": "qnZTvekWrREE"
      },
      "execution_count": null,
      "outputs": []
    },
    {
      "cell_type": "code",
      "source": [
        "print(List2)"
      ],
      "metadata": {
        "colab": {
          "base_uri": "https://localhost:8080/"
        },
        "id": "QuGNLdP4rbvP",
        "outputId": "6d3b6901-1294-4d28-a318-4f06d102bfd3"
      },
      "execution_count": null,
      "outputs": [
        {
          "output_type": "stream",
          "name": "stdout",
          "text": [
            "[26, 26, 27, 28, 28, 45, 67, 77, 89]\n"
          ]
        }
      ]
    },
    {
      "cell_type": "code",
      "source": [
        "List2.count(26)"
      ],
      "metadata": {
        "colab": {
          "base_uri": "https://localhost:8080/"
        },
        "id": "_ovv0B5RrkjQ",
        "outputId": "a20c07a1-1ca7-4494-a824-26f2fc9dd3a1"
      },
      "execution_count": null,
      "outputs": [
        {
          "output_type": "execute_result",
          "data": {
            "text/plain": [
              "2"
            ]
          },
          "metadata": {},
          "execution_count": 52
        }
      ]
    },
    {
      "cell_type": "code",
      "source": [
        "List2.count(28)"
      ],
      "metadata": {
        "colab": {
          "base_uri": "https://localhost:8080/"
        },
        "id": "8m-XvTJzrv8R",
        "outputId": "ad56ebd5-8471-46b5-cd2c-b6fcaa603bc1"
      },
      "execution_count": null,
      "outputs": [
        {
          "output_type": "execute_result",
          "data": {
            "text/plain": [
              "2"
            ]
          },
          "metadata": {},
          "execution_count": 53
        }
      ]
    },
    {
      "cell_type": "code",
      "source": [
        "List2.count(45)"
      ],
      "metadata": {
        "colab": {
          "base_uri": "https://localhost:8080/"
        },
        "id": "fkkqhYIpr1Eu",
        "outputId": "82d67973-9263-4280-9f2f-2ef5c1ab2d86"
      },
      "execution_count": null,
      "outputs": [
        {
          "output_type": "execute_result",
          "data": {
            "text/plain": [
              "1"
            ]
          },
          "metadata": {},
          "execution_count": 54
        }
      ]
    },
    {
      "cell_type": "code",
      "source": [
        "print(sum(List2))"
      ],
      "metadata": {
        "colab": {
          "base_uri": "https://localhost:8080/"
        },
        "id": "Wwpa92LCr5qS",
        "outputId": "ca074377-152e-4cce-d997-ccda142ddae4"
      },
      "execution_count": null,
      "outputs": [
        {
          "output_type": "stream",
          "name": "stdout",
          "text": [
            "413\n"
          ]
        }
      ]
    },
    {
      "cell_type": "code",
      "source": [
        "print(len(List2))      #length"
      ],
      "metadata": {
        "colab": {
          "base_uri": "https://localhost:8080/"
        },
        "id": "CQ2HL3MKsAA3",
        "outputId": "230d42dc-8764-4bbe-9aa6-dfdecde729ee"
      },
      "execution_count": null,
      "outputs": [
        {
          "output_type": "stream",
          "name": "stdout",
          "text": [
            "9\n"
          ]
        }
      ]
    },
    {
      "cell_type": "code",
      "source": [
        "print(max(List2))"
      ],
      "metadata": {
        "colab": {
          "base_uri": "https://localhost:8080/"
        },
        "id": "TTLihMQasIE0",
        "outputId": "17e97336-5405-410f-a7e0-dcab4c93a6bb"
      },
      "execution_count": null,
      "outputs": [
        {
          "output_type": "stream",
          "name": "stdout",
          "text": [
            "89\n"
          ]
        }
      ]
    },
    {
      "cell_type": "code",
      "source": [
        "print(min(List2))"
      ],
      "metadata": {
        "colab": {
          "base_uri": "https://localhost:8080/"
        },
        "id": "rUZqV35GsMm_",
        "outputId": "e88e6c15-d7be-45fb-b36f-82a140484a75"
      },
      "execution_count": null,
      "outputs": [
        {
          "output_type": "stream",
          "name": "stdout",
          "text": [
            "26\n"
          ]
        }
      ]
    },
    {
      "cell_type": "markdown",
      "source": [
        "**TUPLE**"
      ],
      "metadata": {
        "id": "WC9-AxvduzLt"
      }
    },
    {
      "cell_type": "markdown",
      "source": [
        "Tuple is a irdered sequence.\n",
        "Tuple is a immutable collection of data.\n",
        "Theoreticaly of infinate length.\n",
        "iterable.\n",
        "Allow duplicate members.\n",
        "Return with paranthesis bracket."
      ],
      "metadata": {
        "id": "Au-tKb7Ku3BQ"
      }
    },
    {
      "cell_type": "markdown",
      "source": [
        "Tuple creation\n"
      ],
      "metadata": {
        "id": "0RL7xMoVvX7I"
      }
    },
    {
      "cell_type": "code",
      "source": [
        "tuple1=('raju','ramu','dolu','bolu')"
      ],
      "metadata": {
        "id": "CleI-DWpsU7A"
      },
      "execution_count": null,
      "outputs": []
    },
    {
      "cell_type": "code",
      "source": [
        "print(type(tuple1))"
      ],
      "metadata": {
        "colab": {
          "base_uri": "https://localhost:8080/"
        },
        "id": "woCnVvvxvvTo",
        "outputId": "55ff8a4f-114b-4187-a443-44094483a84b"
      },
      "execution_count": null,
      "outputs": [
        {
          "output_type": "stream",
          "name": "stdout",
          "text": [
            "<class 'tuple'>\n"
          ]
        }
      ]
    },
    {
      "cell_type": "code",
      "source": [
        "print(tuple1)"
      ],
      "metadata": {
        "colab": {
          "base_uri": "https://localhost:8080/"
        },
        "id": "uGPq-z-9v0yo",
        "outputId": "d7436880-0b8d-4f82-968e-d33c29d9b4e1"
      },
      "execution_count": null,
      "outputs": [
        {
          "output_type": "stream",
          "name": "stdout",
          "text": [
            "('raju', 'ramu', 'dolu', 'bolu')\n"
          ]
        }
      ]
    },
    {
      "cell_type": "code",
      "source": [
        "tuple2 = ('raju','ramu','dolu','bolu','dolu')"
      ],
      "metadata": {
        "id": "9T0i0P7Jv3f7"
      },
      "execution_count": null,
      "outputs": []
    },
    {
      "cell_type": "code",
      "source": [
        "tuple2.count ('dolu')"
      ],
      "metadata": {
        "colab": {
          "base_uri": "https://localhost:8080/"
        },
        "id": "Wj66XPBgwU1Z",
        "outputId": "6666a9b4-34b8-49b4-ed58-59fbaf6be4b9"
      },
      "execution_count": null,
      "outputs": [
        {
          "output_type": "execute_result",
          "data": {
            "text/plain": [
              "2"
            ]
          },
          "metadata": {},
          "execution_count": 5
        }
      ]
    },
    {
      "cell_type": "code",
      "source": [
        "tuple3 = (5,6,7,8,34,35,86,75)"
      ],
      "metadata": {
        "id": "AOrwjwTEwnGU"
      },
      "execution_count": null,
      "outputs": []
    },
    {
      "cell_type": "code",
      "source": [
        "print(sum(tuple3))"
      ],
      "metadata": {
        "colab": {
          "base_uri": "https://localhost:8080/"
        },
        "id": "7uCN2DNzwvD3",
        "outputId": "9e59b581-7d88-4ce6-ce59-b8adb185e40e"
      },
      "execution_count": null,
      "outputs": [
        {
          "output_type": "stream",
          "name": "stdout",
          "text": [
            "256\n"
          ]
        }
      ]
    },
    {
      "cell_type": "code",
      "source": [
        "print(len(tuple3))"
      ],
      "metadata": {
        "colab": {
          "base_uri": "https://localhost:8080/"
        },
        "id": "81FR20Z3wzgX",
        "outputId": "d6b03056-242a-4149-c1d1-c61c1f12b8ee"
      },
      "execution_count": null,
      "outputs": [
        {
          "output_type": "stream",
          "name": "stdout",
          "text": [
            "8\n"
          ]
        }
      ]
    },
    {
      "cell_type": "code",
      "source": [
        "print(max(tuple3))"
      ],
      "metadata": {
        "colab": {
          "base_uri": "https://localhost:8080/"
        },
        "id": "3qeWMoKFw3KZ",
        "outputId": "cd870671-4965-4e2b-9c93-70263e93d8e5"
      },
      "execution_count": null,
      "outputs": [
        {
          "output_type": "stream",
          "name": "stdout",
          "text": [
            "86\n"
          ]
        }
      ]
    },
    {
      "cell_type": "code",
      "source": [
        "print(min(tuple3))"
      ],
      "metadata": {
        "colab": {
          "base_uri": "https://localhost:8080/"
        },
        "id": "gsQHjvx5w5s7",
        "outputId": "0549be91-43c5-4117-9adc-5d83f5e24d3b"
      },
      "execution_count": null,
      "outputs": [
        {
          "output_type": "stream",
          "name": "stdout",
          "text": [
            "5\n"
          ]
        }
      ]
    },
    {
      "cell_type": "code",
      "source": [
        "tuple3.index(34)"
      ],
      "metadata": {
        "colab": {
          "base_uri": "https://localhost:8080/"
        },
        "id": "wjsu1JvWw9RJ",
        "outputId": "77e96515-66f4-4f80-e6a2-68640b14fb3e"
      },
      "execution_count": null,
      "outputs": [
        {
          "output_type": "execute_result",
          "data": {
            "text/plain": [
              "4"
            ]
          },
          "metadata": {},
          "execution_count": 11
        }
      ]
    },
    {
      "cell_type": "markdown",
      "source": [
        "RANGE"
      ],
      "metadata": {
        "id": "xAOzir_xyibf"
      }
    },
    {
      "cell_type": "code",
      "source": [
        "x = range(10)\n",
        "\n",
        "for n in x :\n",
        "  print(n)\n",
        "print(x)"
      ],
      "metadata": {
        "colab": {
          "base_uri": "https://localhost:8080/"
        },
        "id": "spyUiK3gxGkk",
        "outputId": "d8b53dbc-d7b2-467b-81d0-9a41a3e157c8"
      },
      "execution_count": null,
      "outputs": [
        {
          "output_type": "stream",
          "name": "stdout",
          "text": [
            "0\n",
            "1\n",
            "2\n",
            "3\n",
            "4\n",
            "5\n",
            "6\n",
            "7\n",
            "8\n",
            "9\n",
            "range(0, 10)\n"
          ]
        }
      ]
    },
    {
      "cell_type": "code",
      "source": [
        "x = range (20)\n",
        "print(x)"
      ],
      "metadata": {
        "colab": {
          "base_uri": "https://localhost:8080/"
        },
        "id": "PKw2qC_jy4Wt",
        "outputId": "b1d529a8-b981-43b1-f2fd-9d0fc22854e3"
      },
      "execution_count": null,
      "outputs": [
        {
          "output_type": "stream",
          "name": "stdout",
          "text": [
            "range(0, 20)\n"
          ]
        }
      ]
    },
    {
      "cell_type": "markdown",
      "source": [
        "0,1,2,3,4,5,6,7,8,9,"
      ],
      "metadata": {
        "id": "qxUNvLdMzLAk"
      }
    },
    {
      "cell_type": "markdown",
      "source": [
        "start=0  , end = 10  ,  step value = 1"
      ],
      "metadata": {
        "id": "P9Dh9sUPzPir"
      }
    },
    {
      "cell_type": "code",
      "source": [
        "x = range (3 , 20 ,2 )\n",
        "for n in x:\n",
        "  print(n)"
      ],
      "metadata": {
        "colab": {
          "base_uri": "https://localhost:8080/"
        },
        "id": "VAwR_2rCzBaf",
        "outputId": "c9f3c8f8-2c37-4f18-88ca-4aff61b97522"
      },
      "execution_count": null,
      "outputs": [
        {
          "output_type": "stream",
          "name": "stdout",
          "text": [
            "3\n",
            "5\n",
            "7\n",
            "9\n",
            "11\n",
            "13\n",
            "15\n",
            "17\n",
            "19\n"
          ]
        }
      ]
    },
    {
      "cell_type": "code",
      "source": [
        "x = range (10 , 100, 5)\n",
        "for n in x:\n",
        "  print(n)"
      ],
      "metadata": {
        "colab": {
          "base_uri": "https://localhost:8080/"
        },
        "id": "MudUq-XyznYx",
        "outputId": "c18f1e3a-b986-41f8-d1af-9c95aa3443ac"
      },
      "execution_count": null,
      "outputs": [
        {
          "output_type": "stream",
          "name": "stdout",
          "text": [
            "10\n",
            "15\n",
            "20\n",
            "25\n",
            "30\n",
            "35\n",
            "40\n",
            "45\n",
            "50\n",
            "55\n",
            "60\n",
            "65\n",
            "70\n",
            "75\n",
            "80\n",
            "85\n",
            "90\n",
            "95\n"
          ]
        }
      ]
    },
    {
      "cell_type": "code",
      "source": [
        "x = range(96 , 71 , -4)\n",
        "for n in x:\n",
        "  print(n)"
      ],
      "metadata": {
        "colab": {
          "base_uri": "https://localhost:8080/"
        },
        "id": "yLNyMsn5z7UL",
        "outputId": "fe3cd310-ae97-4b28-af18-8c4490b6238d"
      },
      "execution_count": 1,
      "outputs": [
        {
          "output_type": "stream",
          "name": "stdout",
          "text": [
            "96\n",
            "92\n",
            "88\n",
            "84\n",
            "80\n",
            "76\n",
            "72\n"
          ]
        }
      ]
    },
    {
      "cell_type": "code",
      "source": [],
      "metadata": {
        "id": "uYRK0wIP0LsQ"
      },
      "execution_count": null,
      "outputs": []
    }
  ]
}